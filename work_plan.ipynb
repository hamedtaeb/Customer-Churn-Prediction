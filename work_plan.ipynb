{
 "cells": [
  {
   "cell_type": "code",
   "execution_count": 2,
   "id": "cde72c18",
   "metadata": {},
   "outputs": [],
   "source": [
    "import pandas as pd\n",
    "import numpy as np"
   ]
  },
  {
   "cell_type": "code",
   "execution_count": 3,
   "id": "e46ca383",
   "metadata": {},
   "outputs": [],
   "source": [
    "contract = pd.read_csv('contract.csv')\n",
    "internet = pd.read_csv('internet.csv')\n",
    "personal = pd.read_csv('personal.csv')\n",
    "phone = pd.read_csv('phone.csv')"
   ]
  },
  {
   "cell_type": "markdown",
   "id": "8aeb3c0a",
   "metadata": {},
   "source": [
    "### Shape & Info of DataFrames"
   ]
  },
  {
   "cell_type": "code",
   "execution_count": 13,
   "id": "44118d31",
   "metadata": {},
   "outputs": [
    {
     "name": "stdout",
     "output_type": "stream",
     "text": [
      "(7043, 8)\n",
      "<class 'pandas.core.frame.DataFrame'>\n",
      "RangeIndex: 7043 entries, 0 to 7042\n",
      "Data columns (total 8 columns):\n",
      " #   Column            Non-Null Count  Dtype  \n",
      "---  ------            --------------  -----  \n",
      " 0   customerID        7043 non-null   object \n",
      " 1   BeginDate         7043 non-null   object \n",
      " 2   EndDate           7043 non-null   object \n",
      " 3   Type              7043 non-null   object \n",
      " 4   PaperlessBilling  7043 non-null   object \n",
      " 5   PaymentMethod     7043 non-null   object \n",
      " 6   MonthlyCharges    7043 non-null   float64\n",
      " 7   TotalCharges      7043 non-null   object \n",
      "dtypes: float64(1), object(7)\n",
      "memory usage: 440.3+ KB\n",
      "None\n",
      "--------------------------------------------------\n",
      "(7043, 5)\n",
      "<class 'pandas.core.frame.DataFrame'>\n",
      "RangeIndex: 7043 entries, 0 to 7042\n",
      "Data columns (total 5 columns):\n",
      " #   Column         Non-Null Count  Dtype \n",
      "---  ------         --------------  ----- \n",
      " 0   customerID     7043 non-null   object\n",
      " 1   gender         7043 non-null   object\n",
      " 2   SeniorCitizen  7043 non-null   int64 \n",
      " 3   Partner        7043 non-null   object\n",
      " 4   Dependents     7043 non-null   object\n",
      "dtypes: int64(1), object(4)\n",
      "memory usage: 275.2+ KB\n",
      "None\n",
      "--------------------------------------------------\n",
      "(5517, 8)\n",
      "<class 'pandas.core.frame.DataFrame'>\n",
      "RangeIndex: 5517 entries, 0 to 5516\n",
      "Data columns (total 8 columns):\n",
      " #   Column            Non-Null Count  Dtype \n",
      "---  ------            --------------  ----- \n",
      " 0   customerID        5517 non-null   object\n",
      " 1   InternetService   5517 non-null   object\n",
      " 2   OnlineSecurity    5517 non-null   object\n",
      " 3   OnlineBackup      5517 non-null   object\n",
      " 4   DeviceProtection  5517 non-null   object\n",
      " 5   TechSupport       5517 non-null   object\n",
      " 6   StreamingTV       5517 non-null   object\n",
      " 7   StreamingMovies   5517 non-null   object\n",
      "dtypes: object(8)\n",
      "memory usage: 344.9+ KB\n",
      "None\n",
      "--------------------------------------------------\n",
      "(6361, 2)\n",
      "<class 'pandas.core.frame.DataFrame'>\n",
      "RangeIndex: 6361 entries, 0 to 6360\n",
      "Data columns (total 2 columns):\n",
      " #   Column         Non-Null Count  Dtype \n",
      "---  ------         --------------  ----- \n",
      " 0   customerID     6361 non-null   object\n",
      " 1   MultipleLines  6361 non-null   object\n",
      "dtypes: object(2)\n",
      "memory usage: 99.5+ KB\n",
      "None\n",
      "--------------------------------------------------\n"
     ]
    }
   ],
   "source": [
    "for df in [contract, personal, internet, phone]:\n",
    "    print(df.shape)\n",
    "    print(df.info())\n",
    "    print('-'*50)\n"
   ]
  },
  {
   "cell_type": "markdown",
   "id": "1c916cd5",
   "metadata": {},
   "source": [
    "### Observations so far\n",
    "\n",
    "- contract.csv → 7,043 rows, 8 columns\n",
    "- TotalCharges is stored as object, even though it should be numeric (needs conversion).\n",
    "- personal.csv → 7,043 rows, 5 columns\n",
    "- internet.csv → 5,517 rows, 8 columns (fewer rows → not every customer has internet service).\n",
    "- phone.csv → 6,361 rows, 2 columns (again fewer rows → not every customer has phone service).\n",
    "- No null values reported — at least in .info(). 👍\n",
    "\n"
   ]
  },
  {
   "cell_type": "code",
   "execution_count": null,
   "id": "973679ff",
   "metadata": {},
   "outputs": [
    {
     "data": {
      "text/plain": [
       "EndDate\n",
       "No                     5174\n",
       "2019-11-01 00:00:00     485\n",
       "2019-12-01 00:00:00     466\n",
       "2020-01-01 00:00:00     460\n",
       "2019-10-01 00:00:00     458\n",
       "Name: count, dtype: int64"
      ]
     },
     "execution_count": 15,
     "metadata": {},
     "output_type": "execute_result"
    }
   ],
   "source": [
    "# Checking for target count in contract dataframe\n",
    "contract['EndDate'].value_counts()"
   ]
  },
  {
   "cell_type": "code",
   "execution_count": 16,
   "id": "f4d25c2b",
   "metadata": {},
   "outputs": [
    {
     "name": "stdout",
     "output_type": "stream",
     "text": [
      "contract: 0 duplicate rows\n",
      "contract: 0 duplicate customerIDs\n",
      "\n",
      "personal: 0 duplicate rows\n",
      "personal: 0 duplicate customerIDs\n",
      "\n",
      "internet: 0 duplicate rows\n",
      "internet: 0 duplicate customerIDs\n",
      "\n",
      "phone: 0 duplicate rows\n",
      "phone: 0 duplicate customerIDs\n",
      "\n"
     ]
    }
   ],
   "source": [
    "for name, df in zip(['contract','personal','internet','phone'],\n",
    "                    [contract, personal, internet, phone]):\n",
    "    print(f\"{name}: {df.duplicated().sum()} duplicate rows\")\n",
    "    print(f\"{name}: {df['customerID'].duplicated().sum()} duplicate customerIDs\\n\")\n",
    "# Checking for duplicate rows and customerIDs"
   ]
  },
  {
   "cell_type": "code",
   "execution_count": 17,
   "id": "3f464b2e",
   "metadata": {},
   "outputs": [
    {
     "data": {
      "text/plain": [
       "(11, 8)"
      ]
     },
     "execution_count": 17,
     "metadata": {},
     "output_type": "execute_result"
    }
   ],
   "source": [
    "contract[contract['TotalCharges'].str.strip() == \"\"].shape"
   ]
  },
  {
   "cell_type": "markdown",
   "id": "97d828cb",
   "metadata": {},
   "source": [
    "## 🛠 Planned Workflow\n",
    "\n",
    "### 1. Data Preparation\n",
    "- Merge all datasets using `customerID`.\n",
    "- Process target:  \n",
    "  - `EndDate = \"No\"` → `0` (active)  \n",
    "  - `EndDate = date` → `1` (churn)  \n",
    "- Convert `TotalCharges` to numeric. Handle 11 blank values (impute as `0` or drop).  \n",
    "- Fill missing service data: if a customer has no row in `internet` or `phone`, mark features as `\"No\"`.  \n",
    "- Encode categorical variables (binary → 0/1; multi-class → one-hot or similar).  \n",
    "\n",
    "### 2. Exploratory Data Analysis (EDA)\n",
    "- Study churn distribution across:  \n",
    "  - Contract type (month-to-month, 1-year, 2-year)  \n",
    "  - Payment method  \n",
    "  - Internet service type  \n",
    "  - Additional services (OnlineSecurity, Backup, Streaming, etc.)  \n",
    "- Visualize churn by key features.  \n",
    "- Check correlations between features.  \n",
    "\n",
    "### 3. Feature Engineering\n",
    "- Create `tenure` = difference between `BeginDate` and `EndDate` (or Feb 1, 2020, if active).  \n",
    "- Create `service_count` = number of services subscribed.  \n",
    "- Transform categorical features into numerical encodings.  \n",
    "- Add contract/payment features (e.g., flag auto-pay customers).  \n",
    "\n",
    "### 4. Modeling Approach\n",
    "- Split data into **train/validation/test** (stratified).  \n",
    "- Train baseline models: Logistic Regression, Decision Tree, Random Forest.  \n",
    "- Train advanced models: Gradient Boosting (LightGBM, CatBoost, XGBoost).  \n",
    "- Handle class imbalance with class weights or resampling techniques.  \n",
    "\n",
    "### 5. Evaluation\n",
    "- **Primary metric:** AUC-ROC.  \n",
    "- **Secondary metric:** Accuracy (will also check Precision/Recall due to imbalance).  \n",
    "- Compare models and select best-performing one.  \n",
    "\n",
    "### 6. Reporting\n",
    "- Document preprocessing steps, EDA insights, and model results.  \n",
    "- Summarize key findings and **business insights** (e.g., which features influence churn).  \n",
    "- Provide recommendations for how Interconnect can reduce churn.  \n"
   ]
  },
  {
   "cell_type": "markdown",
   "id": "a1755102",
   "metadata": {},
   "source": [
    "## ❓ Clarifying Questions for Team Lead\n",
    "\n",
    "1. **Target Definition**  \n",
    "   Just to confirm — for the churn target, should we treat `EndDate = \"No\"` as **active (0)** and any date value as **churned (1)**?\n",
    "\n",
    "2. **Blank `TotalCharges`**  \n",
    "   We identified **11 rows** where `TotalCharges` is blank. Should these be imputed as `0` (new customers with no billing yet), or excluded from the dataset?\n",
    "\n",
    "3. **Evaluation Metrics**  \n",
    "   The requirement states **AUC-ROC** as the primary metric and **Accuracy** as secondary. Since the dataset is imbalanced (~26.5% churn), would it make sense to also include **Precision/Recall** (or F1-score) to better reflect model performance on churned customers?\n"
   ]
  }
 ],
 "metadata": {
  "kernelspec": {
   "display_name": "Python 3",
   "language": "python",
   "name": "python3"
  },
  "language_info": {
   "codemirror_mode": {
    "name": "ipython",
    "version": 3
   },
   "file_extension": ".py",
   "mimetype": "text/x-python",
   "name": "python",
   "nbconvert_exporter": "python",
   "pygments_lexer": "ipython3",
   "version": "3.13.5"
  }
 },
 "nbformat": 4,
 "nbformat_minor": 5
}
